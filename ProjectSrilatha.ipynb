{
  "nbformat": 4,
  "nbformat_minor": 0,
  "metadata": {
    "colab": {
      "provenance": [],
      "include_colab_link": true
    },
    "kernelspec": {
      "name": "python3",
      "display_name": "Python 3"
    },
    "language_info": {
      "name": "python"
    }
  },
  "cells": [
    {
      "cell_type": "markdown",
      "metadata": {
        "id": "view-in-github",
        "colab_type": "text"
      },
      "source": [
        "<a href=\"https://colab.research.google.com/github/srilathachandanala/Assignment-1/blob/main/ProjectSrilatha.ipynb\" target=\"_parent\"><img src=\"https://colab.research.google.com/assets/colab-badge.svg\" alt=\"Open In Colab\"/></a>"
      ]
    },
    {
      "cell_type": "code",
      "execution_count": null,
      "metadata": {
        "id": "vExnfnfr0dkr"
      },
      "outputs": [],
      "source": [
        "import warnings\n",
        "# Filter out all warnings\n",
        "warnings.filterwarnings(\"ignore\")"
      ]
    },
    {
      "cell_type": "code",
      "source": [
        "!pip install --quiet transformers==4.5.0\n",
        "!pip install --quiet sentencepiece==0.1.95\n",
        "!pip install --quiet textwrap3==0.9.2\n",
        "!pip install --quiet nltk==3.2.5"
      ],
      "metadata": {
        "id": "nrSqLL-C2ain"
      },
      "execution_count": null,
      "outputs": []
    },
    {
      "cell_type": "code",
      "source": [
        "!pip install --quiet ipython-autotime\n",
        "%load_ext autotime"
      ],
      "metadata": {
        "id": "eXWP43AK2i5s"
      },
      "execution_count": null,
      "outputs": []
    },
    {
      "cell_type": "code",
      "source": [
        "from textwrap3 import wrap\n",
        "text = \"\"\"The DeepMind co-founder calls for the ‘containment’ of new technology in a heartfelt and candid exploration of what the future may hold for us.What is it with wave metaphors? Technological determinists – people who believe that technology drives history – love them. Think of Alvin Toffler, who saw the history of civilisation as a succession of three such waves (agricultural, industrial and post-industrial). The idea is of immense power, unstoppable, moving inexorably towards us as we cower before its immensity, much as the dinosaurs must have done when they saw the mile-high tsunami heading in their direction.Mustafa Suleyman says he is not a determinist, but at times he sounds awfully like one. “At its heart,” he writes at one point, “technology emerges to fill human needs. If people have powerful reasons to build and use it, it will get built and used. Yet in most discussions of technology people still get stuck on what it is, forgetting why it was created in the first place. This is not about some innate techno-determinism. This is about what it means to be human.”\n",
        "The oncoming wave in his title is “defined by two core technologies: artificial intelligence (AI) and synthetic biology”, and it’s the conjunction of the two that makes it intriguing and original. Together, he thinks, these two “will usher in a new dawn for humanity, creating wealth and surplus unlike anything ever seen. And yet their rapid proliferation also threatens to empower a diverse array of bad actors to unleash disruption, instability, and even catastrophe on an unimaginable scale.” Our future, apparently, “both depends on these technologies and is imperilled by them”.\n",
        "Once you get past this hyperbolic prologue, the book settles down into a serious exploration of what the future might hold for us all. Suleyman’s credentials for the task are good: he was co-founder of DeepMind, arguably the smartest AI company around, but he has also worked in the charitable sector, in British local government, and at Google – where he worked on the company’s large language models (LLMs) and the thankless task of trying to persuade the search behemoth to take ethics seriously. Although he hasn’t worked in molecular biology, his account of DNA sequencing, gene editing and the design and manufacture of new genetic products seems well-informed and supports his case that AI and computational biology are the twin challenges that will soon confront societies.\"\"\"\n",
        "\n",
        "for wrp in wrap(text, 150):\n",
        "  print (wrp)\n",
        "print (\"\\n\")"
      ],
      "metadata": {
        "id": "ZOiVrCer2vpc"
      },
      "execution_count": null,
      "outputs": []
    },
    {
      "cell_type": "code",
      "source": [
        "text = \"\"\"Nestled in the southern part of India, Bangalore stands as a dynamic and multifaceted city that has captivated the nation and the world alike.\n",
        "Fondly known as the \"Garden City of India,\" Bangalore's lush greenery, pleasant climate, and diverse culture offer a striking contrast to its bustling technological advancements.\n",
        "At the heart of Bangalore's allure lies its status as the \"Silicon Valley of India.\" The city's booming IT sector has earned it global recognition as a tech innovation hub.\n",
        "With its towering glass buildings and modern infrastructure, Bangalore showcases India's prowess in software development and cutting-edge technologies. Countless startups,\n",
        "global corporations, and research institutions have found their home within its limits, making it a thriving center of creativity and invention.\n",
        "But Bangalore's appeal extends far beyond its technological achievements. The city's historical legacy is visible in its architectural marvels such as the Bangalore Palace,\n",
        "which offers a glimpse into its royal past. The renowned Lalbagh Botanical Garden stands as a testament to the city's commitment to preserving nature amid urbanization.\n",
        "Bangalore's educational institutions are equally celebrated, housing some of the country's most prestigious universities and research centers.\n",
        "Culturally, Bangalore is a melting pot, where traditions blend harmoniously with contemporary lifestyles. The city's diverse population contributes to its rich tapestry of\n",
        "languages, cuisine, festivals, and art forms. Whether it's enjoying a traditional South Indian meal at a local eatery or attending a global music festival, Bangalore's cultural\n",
        " experiences are as vibrant as they are varied.In essence, Bangalore exemplifies the harmonious coexistence of tradition and innovation. As India's tech capital,\n",
        " it propels the nation forward in the digital age, while its cultural heritage reminds us of the importance of preserving history and embracing diversity. Bangalore's allure lies in its ability to encapsulate the best of both worlds, making it a city that continues to capture hearts and imaginations.\n",
        "\n",
        " \"\"\"\n",
        "for wrp in wrap(text, 150):\n",
        "  print (wrp)\n",
        "print (\"\\n\")"
      ],
      "metadata": {
        "id": "PsFIAOwT2xlT",
        "colab": {
          "base_uri": "https://localhost:8080/"
        },
        "outputId": "f5cafe54-aeae-4f37-9ba9-0b658ef30033"
      },
      "execution_count": null,
      "outputs": [
        {
          "output_type": "stream",
          "name": "stdout",
          "text": [
            "Nestled in the southern part of India, Bangalore stands as a dynamic and multifaceted city that has captivated the nation and the world alike. Fondly\n",
            "known as the \"Garden City of India,\" Bangalore's lush greenery, pleasant climate, and diverse culture offer a striking contrast to its bustling\n",
            "technological advancements. At the heart of Bangalore's allure lies its status as the \"Silicon Valley of India.\" The city's booming IT sector has\n",
            "earned it global recognition as a tech innovation hub. With its towering glass buildings and modern infrastructure, Bangalore showcases India's\n",
            "prowess in software development and cutting-edge technologies. Countless startups, global corporations, and research institutions have found their\n",
            "home within its limits, making it a thriving center of creativity and invention. But Bangalore's appeal extends far beyond its technological\n",
            "achievements. The city's historical legacy is visible in its architectural marvels such as the Bangalore Palace, which offers a glimpse into its royal\n",
            "past. The renowned Lalbagh Botanical Garden stands as a testament to the city's commitment to preserving nature amid urbanization. Bangalore's\n",
            "educational institutions are equally celebrated, housing some of the country's most prestigious universities and research centers. Culturally,\n",
            "Bangalore is a melting pot, where traditions blend harmoniously with contemporary lifestyles. The city's diverse population contributes to its rich\n",
            "tapestry of languages, cuisine, festivals, and art forms. Whether it's enjoying a traditional South Indian meal at a local eatery or attending a\n",
            "global music festival, Bangalore's cultural  experiences are as vibrant as they are varied.In essence, Bangalore exemplifies the harmonious\n",
            "coexistence of tradition and innovation. As India's tech capital,  it propels the nation forward in the digital age, while its cultural heritage\n",
            "reminds us of the importance of preserving history and embracing diversity. Bangalore's allure lies in its ability to encapsulate the best of both\n",
            "worlds, making it a city that continues to capture hearts and imaginations.\n",
            "\n",
            "\n",
            "time: 48.8 ms (started: 2024-04-09 10:04:11 +00:00)\n"
          ]
        }
      ]
    },
    {
      "cell_type": "code",
      "source": [
        "!pip install --upgrade pip setuptools\n",
        "!apt-get -qq install libpython3.7-dev\n",
        "!pip install  transformers\n",
        "!pip install  transformers"
      ],
      "metadata": {
        "id": "aeEcHzMZ22Pb"
      },
      "execution_count": null,
      "outputs": []
    },
    {
      "cell_type": "code",
      "source": [
        "from transformers import T5ForConditionalGeneration,T5Tokenizer"
      ],
      "metadata": {
        "id": "WS2Ii5l63Ukz",
        "colab": {
          "base_uri": "https://localhost:8080/"
        },
        "outputId": "3892263c-8120-4c15-c1ff-dc8cc3126d46"
      },
      "execution_count": null,
      "outputs": [
        {
          "output_type": "stream",
          "name": "stdout",
          "text": [
            "time: 12.3 s (started: 2024-04-09 10:05:29 +00:00)\n"
          ]
        }
      ]
    },
    {
      "cell_type": "code",
      "source": [
        "import torch\n",
        "# from transformers import T5ForConditionalGeneration,T5Tokenizer\n",
        "summary_model = T5ForConditionalGeneration.from_pretrained('t5-base')\n",
        "summary_tokenizer = T5Tokenizer.from_pretrained('t5-base')\n",
        "\n",
        "device = torch.device(\"cuda\" if torch.cuda.is_available() else \"cpu\")\n",
        "summary_model = summary_model.to(device)"
      ],
      "metadata": {
        "id": "TLPD0R5A3b-m"
      },
      "execution_count": null,
      "outputs": []
    },
    {
      "cell_type": "code",
      "source": [
        "import random\n",
        "import numpy as np\n",
        "\n",
        "def set_seed(seed: int):\n",
        "    random.seed(seed)\n",
        "    np.random.seed(seed)\n",
        "    torch.manual_seed(seed)\n",
        "    torch.cuda.manual_seed_all(seed)\n",
        "\n",
        "set_seed(42)"
      ],
      "metadata": {
        "id": "aS4oHaaq3hHd"
      },
      "execution_count": null,
      "outputs": []
    },
    {
      "cell_type": "code",
      "source": [
        "text = \"\"\"Nestled in the southern part of India, Bangalore stands as a dynamic and multifaceted city that has captivated the nation and the world alike.\n",
        "Fondly known as the \"Garden City of India,\" Bangalore's lush greenery, pleasant climate, and diverse culture offer a striking contrast to its bustling technological advancements.\n",
        "At the heart of Bangalore's allure lies its status as the \"Silicon Valley of India.\" The city's booming IT sector has earned it global recognition as a tech innovation hub.\n",
        "With its towering glass buildings and modern infrastructure, Bangalore showcases India's prowess in software development and cutting-edge technologies. Countless startups,\n",
        "global corporations, and research institutions have found their home within its limits, making it a thriving center of creativity and invention.\n",
        "But Bangalore's appeal extends far beyond its technological achievements. The city's historical legacy is visible in its architectural marvels such as the Bangalore Palace,\n",
        "which offers a glimpse into its royal past. The renowned Lalbagh Botanical Garden stands as a testament to the city's commitment to preserving nature amid urbanization.\n",
        "Bangalore's educational institutions are equally celebrated, housing some of the country's most prestigious universities and research centers.\n",
        "Culturally, Bangalore is a melting pot, where traditions blend harmoniously with contemporary lifestyles. The city's diverse population contributes to its rich tapestry of\n",
        "languages, cuisine, festivals, and art forms. Whether it's enjoying a traditional South Indian meal at a local eatery or attending a global music festival, Bangalore's cultural\n",
        " experiences are as vibrant as they are varied.In essence, Bangalore exemplifies the harmonious coexistence of tradition and innovation. As India's tech capital,\n",
        " it propels the nation forward in the digital age, while its cultural heritage reminds us of the importance of preserving history and embracing diversity. Bangalore's allure lies in its ability to encapsulate the best of both worlds, making it a city that continues to capture hearts and imaginations.\n",
        "\n",
        " \"\"\"\n",
        "for wrp in wrap(text, 150):\n",
        "  print (wrp)\n",
        "print (\"\\n\")"
      ],
      "metadata": {
        "id": "x4-1Sim933FL"
      },
      "execution_count": null,
      "outputs": []
    },
    {
      "cell_type": "code",
      "source": [
        "import torch\n",
        "import nltk\n",
        "nltk.download('punkt')\n",
        "nltk.download('brown')\n",
        "nltk.download('wordnet')\n",
        "from nltk.corpus import wordnet as wn\n",
        "from nltk.tokenize import sent_tokenize\n",
        "def postprocesstext (content):\n",
        "  final=\"\"\n",
        "  for sent in sent_tokenize(content):\n",
        "    sent = sent.capitalize()\n",
        "    final = final +\" \"+sent\n",
        "  return final\n",
        "\n",
        "def summarizer(text):\n",
        "  # from transformers import T5ForConditionalGeneration,T5Tokenizer\n",
        "  model = T5ForConditionalGeneration.from_pretrained('t5-base')\n",
        "  tokenizer = T5Tokenizer.from_pretrained('t5-base')\n",
        "  device = torch.device(\"cuda\" if torch.cuda.is_available() else \"cpu\")\n",
        "  model = model.to(device)\n",
        "  text = text.strip().replace(\"\\n\",\" \")\n",
        "  text = \"summarize: \"+text\n",
        "  # print (text)\n",
        "  max_len = 512\n",
        "  encoding = tokenizer.encode_plus(text,max_length=max_len, pad_to_max_length=False,truncation=True, return_tensors=\"pt\").to(device)\n",
        "\n",
        "  input_ids, attention_mask = encoding[\"input_ids\"], encoding[\"attention_mask\"]\n",
        "\n",
        "  outs = model.generate(input_ids=input_ids,\n",
        "                                  attention_mask=attention_mask,\n",
        "                                  early_stopping=True,\n",
        "                                  num_beams=3,\n",
        "                                  num_return_sequences=1,\n",
        "                                  no_repeat_ngram_size=2,\n",
        "                                  min_length = 75,\n",
        "                                  max_length=300)\n",
        "\n",
        "\n",
        "  dec = [tokenizer.decode(ids,skip_special_tokens=True) for ids in outs]\n",
        "  summary = dec[0]\n",
        "  summary = postprocesstext(summary)\n",
        "  summary= summary.strip()\n",
        "\n",
        "  return summary\n",
        "summarized_text = summarizer(text)\n",
        "\n",
        "\n",
        "print (\"\\noriginal Text >>\")\n",
        "for wrp in wrap(text, 150):\n",
        "  print (wrp)\n",
        "print (\"\\n\")\n",
        "print (\"Summarized Text >>\")\n",
        "for wrp in wrap(summarized_text, 150):\n",
        "  print (wrp)\n",
        "print (\"\\n\")"
      ],
      "metadata": {
        "colab": {
          "base_uri": "https://localhost:8080/"
        },
        "id": "4i04Yp99340S",
        "outputId": "b7c9b5b1-b8a5-4516-e614-a08a35afef75"
      },
      "execution_count": null,
      "outputs": [
        {
          "output_type": "stream",
          "name": "stdout",
          "text": [
            "[nltk_data] Downloading package punkt to /root/nltk_data...\n",
            "[nltk_data]   Unzipping tokenizers/punkt.zip.\n",
            "[nltk_data] Downloading package brown to /root/nltk_data...\n",
            "[nltk_data]   Unzipping corpora/brown.zip.\n",
            "[nltk_data] Downloading package wordnet to /root/nltk_data...\n"
          ]
        },
        {
          "output_type": "stream",
          "name": "stderr",
          "text": [
            "Special tokens have been added in the vocabulary, make sure the associated word embeddings are fine-tuned or trained.\n"
          ]
        },
        {
          "output_type": "stream",
          "name": "stdout",
          "text": [
            "\n",
            "original Text >>\n",
            "Nestled in the southern part of India, Bangalore stands as a dynamic and multifaceted city that has captivated the nation and the world alike. Fondly\n",
            "known as the \"Garden City of India,\" Bangalore's lush greenery, pleasant climate, and diverse culture offer a striking contrast to its bustling\n",
            "technological advancements. At the heart of Bangalore's allure lies its status as the \"Silicon Valley of India.\" The city's booming IT sector has\n",
            "earned it global recognition as a tech innovation hub. With its towering glass buildings and modern infrastructure, Bangalore showcases India's\n",
            "prowess in software development and cutting-edge technologies. Countless startups, global corporations, and research institutions have found their\n",
            "home within its limits, making it a thriving center of creativity and invention. But Bangalore's appeal extends far beyond its technological\n",
            "achievements. The city's historical legacy is visible in its architectural marvels such as the Bangalore Palace, which offers a glimpse into its royal\n",
            "past. The renowned Lalbagh Botanical Garden stands as a testament to the city's commitment to preserving nature amid urbanization. Bangalore's\n",
            "educational institutions are equally celebrated, housing some of the country's most prestigious universities and research centers. Culturally,\n",
            "Bangalore is a melting pot, where traditions blend harmoniously with contemporary lifestyles. The city's diverse population contributes to its rich\n",
            "tapestry of languages, cuisine, festivals, and art forms. Whether it's enjoying a traditional South Indian meal at a local eatery or attending a\n",
            "global music festival, Bangalore's cultural  experiences are as vibrant as they are varied.In essence, Bangalore exemplifies the harmonious\n",
            "coexistence of tradition and innovation. As India's tech capital,  it propels the nation forward in the digital age, while its cultural heritage\n",
            "reminds us of the importance of preserving history and embracing diversity. Bangalore's allure lies in its ability to encapsulate the best of both\n",
            "worlds, making it a city that continues to capture hearts and imaginations.\n",
            "\n",
            "\n",
            "Summarized Text >>\n",
            "Fondly known as the \"garden city of india,\" bangalore has captivated the nation and the world alike. The city's booming it sector has earned it global\n",
            "recognition as a tech innovation hub. Its cultural experiences are as vibrant as they are varied. It is an example of the harmonious coexistence of\n",
            "tradition and innovation, says naomi gupta.\n",
            "\n",
            "\n",
            "time: 29.9 s (started: 2024-04-09 10:08:54 +00:00)\n"
          ]
        }
      ]
    },
    {
      "cell_type": "code",
      "source": [
        "!pip install gradio"
      ],
      "metadata": {
        "id": "TUvleCBuSBri"
      },
      "execution_count": null,
      "outputs": []
    },
    {
      "cell_type": "code",
      "source": [
        "import gradio as gr\n",
        "interface = gr.Interface(\n",
        "fn=summarizer, # the function to wrap\n",
        "inputs=gr.Textbox(lines=100, label=\"Input Text\"), # the input component\n",
        "outputs=gr.Textbox(label=\"Summary\") # the output component\n",
        ")\n",
        "\n",
        "# Launch the interface\n",
        "interface.launch()"
      ],
      "metadata": {
        "colab": {
          "base_uri": "https://localhost:8080/",
          "height": 666
        },
        "id": "WhdBpJDgR_fx",
        "outputId": "49cb9d1c-5ed1-48ba-85f9-b3144c7bdded"
      },
      "execution_count": null,
      "outputs": [
        {
          "output_type": "stream",
          "name": "stdout",
          "text": [
            "Setting queue=True in a Colab notebook requires sharing enabled. Setting `share=True` (you can turn this off by setting `share=False` in `launch()` explicitly).\n",
            "\n",
            "Colab notebook detected. To show errors in colab notebook, set debug=True in launch()\n",
            "Running on public URL: https://224063b65a0641469e.gradio.live\n",
            "\n",
            "This share link expires in 72 hours. For free permanent hosting and GPU upgrades, run `gradio deploy` from Terminal to deploy to Spaces (https://huggingface.co/spaces)\n"
          ]
        },
        {
          "output_type": "display_data",
          "data": {
            "text/plain": [
              "<IPython.core.display.HTML object>"
            ],
            "text/html": [
              "<div><iframe src=\"https://224063b65a0641469e.gradio.live\" width=\"100%\" height=\"500\" allow=\"autoplay; camera; microphone; clipboard-read; clipboard-write;\" frameborder=\"0\" allowfullscreen></iframe></div>"
            ]
          },
          "metadata": {}
        },
        {
          "output_type": "execute_result",
          "data": {
            "text/plain": []
          },
          "metadata": {},
          "execution_count": 13
        },
        {
          "output_type": "stream",
          "name": "stdout",
          "text": [
            "time: 7.44 s (started: 2024-04-09 10:11:13 +00:00)\n"
          ]
        }
      ]
    }
  ]
}